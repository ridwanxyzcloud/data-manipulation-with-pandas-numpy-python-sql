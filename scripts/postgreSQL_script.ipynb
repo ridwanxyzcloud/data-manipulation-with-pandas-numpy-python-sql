{
 "cells": [
  {
   "cell_type": "markdown",
   "metadata": {},
   "source": [
    "# Loading data into a postgresSQL Database"
   ]
  },
  {
   "cell_type": "code",
   "execution_count": 15,
   "metadata": {},
   "outputs": [],
   "source": [
    "import psycopg2\n",
    "from datetime import datetime"
   ]
  },
  {
   "cell_type": "code",
   "execution_count": 11,
   "metadata": {},
   "outputs": [],
   "source": [
    "def db_connection():\n",
    "    connection = psycopg2.connect(\n",
    "        user = \"ridwanclouds\",\n",
    "        password = \"password\",\n",
    "        database = \"yanki_ecommerce\",\n",
    "        host = \"localhost\",\n",
    "        port = \"5432\"\n",
    "    )\n",
    "    return connection"
   ]
  },
  {
   "cell_type": "code",
   "execution_count": 12,
   "metadata": {},
   "outputs": [],
   "source": [
    "conn = db_connection()\n",
    "cursor = conn.cursor()\n",
    "conn.autocommit=True"
   ]
  },
  {
   "cell_type": "code",
   "execution_count": 29,
   "metadata": {},
   "outputs": [],
   "source": [
    "# create customer table\n",
    "cursor.execute(\n",
    "    ''' \n",
    "    CREATE SCHEMA IF NOT EXISTS yanki;\n",
    "    DROP TABLE IF EXISTS yanki.customers CASCADE;\n",
    "    DROP TABLE IF EXISTS yanki.products CASCADE;\n",
    "    DROP TABLE IF EXISTS yanki.shipping_address CASCADE;\n",
    "    DROP TABLE IF EXISTS yanki.orders CASCADE;\n",
    "    DROP TABLE IF EXISTS yanki.payment_method CASCADE;\n",
    "\n",
    "    CREATE TABLE IF NOT EXISTS yanki.customers(\n",
    "        Customer_ID UUID PRIMARY KEY,\n",
    "        Customer_Name TEXT,\n",
    "        Email TEXT,\n",
    "        Phone_Number TEXT\n",
    "    );\n",
    "\n",
    "    CREATE TABLE IF NOT EXISTS yanki.products(\n",
    "        Product_ID UUID PRIMARY KEY,\n",
    "        Product_Name TEXT,\n",
    "        Brand TEXT,\n",
    "        Category TEXT,\n",
    "        Price FLOAT\n",
    "    );\n",
    "\n",
    "    CREATE TABLE IF NOT EXISTS yanki.shipping_address(\n",
    "        Shipping_ID SERIAL PRIMARY KEY,\n",
    "        Customer_ID UUID,\n",
    "        Shipping_Address TEXT,\n",
    "        City TEXT,\n",
    "        State TEXT,\n",
    "        Country TEXT,\n",
    "        Postal_Code INTEGER,\n",
    "        FOREIGN KEY (Customer_ID) REFERENCES yanki.customers(Customer_ID)\n",
    "    );\n",
    "\n",
    "    CREATE TABLE IF NOT EXISTS yanki.orders(\n",
    "        Order_ID UUID PRIMARY KEY,\n",
    "        Customer_ID UUID,\n",
    "        Product_ID UUID,\n",
    "        Quantity INTEGER,\n",
    "        Total_Price FLOAT,\n",
    "        Order_Date TIMESTAMP,\n",
    "        FOREIGN KEY (Customer_ID) REFERENCES yanki.customers(Customer_ID),\n",
    "        FOREIGN KEY (Product_ID) REFERENCES yanki.products(Product_ID)\n",
    "    );\n",
    "\n",
    "    \n",
    "    CREATE TABLE IF NOT EXISTS yanki.payment_method(\n",
    "        Order_ID UUID,\n",
    "        Payment_Method TEXT,\n",
    "        Transaction_Status TEXT,\n",
    "        FOREIGN KEY (Order_ID) REFERENCES yanki.orders(Order_ID)\n",
    "    );\n",
    "\n",
    "    '''\n",
    ")"
   ]
  },
  {
   "cell_type": "code",
   "execution_count": 22,
   "metadata": {},
   "outputs": [
    {
     "data": {
      "text/plain": [
       "<function connection.close>"
      ]
     },
     "execution_count": 22,
     "metadata": {},
     "output_type": "execute_result"
    }
   ],
   "source": [
    "cursor.close\n",
    "conn.close\n"
   ]
  },
  {
   "cell_type": "markdown",
   "metadata": {},
   "source": [
    "### Data loading into the PostgreSQL DB \n",
    "\n"
   ]
  },
  {
   "cell_type": "code",
   "execution_count": 21,
   "metadata": {},
   "outputs": [],
   "source": [
    "import csv"
   ]
  },
  {
   "cell_type": "code",
   "execution_count": 30,
   "metadata": {},
   "outputs": [
    {
     "data": {
      "text/plain": [
       "<function connection.close>"
      ]
     },
     "execution_count": 30,
     "metadata": {},
     "output_type": "execute_result"
    }
   ],
   "source": [
    "# load customer table \n",
    "db_connection()\n",
    "csv_path = r'../datasets/cleaned dataset/customer_df.csv'\n",
    "\n",
    "with open(csv_path, 'r') as file:\n",
    "    reader = csv.reader(file)\n",
    "    next(reader)\n",
    "    for row in reader:\n",
    "        cursor.execute('''\n",
    "            INSERT INTO yanki.customers(Customer_ID, Customer_Name, Email, Phone_Number)\n",
    "            VALUES (%s, %s, %s, %s);''' , row\n",
    "        )\n",
    "conn.commit\n",
    "cursor.close\n",
    "conn.close\n"
   ]
  },
  {
   "cell_type": "code",
   "execution_count": 31,
   "metadata": {},
   "outputs": [
    {
     "data": {
      "text/plain": [
       "('e0d6cb3c-c4b0-4cfe-8225-b65d094d2424',\n",
       " 'Dominic Buchanan',\n",
       " 'margaret97@example.com',\n",
       " '259.603.6134')"
      ]
     },
     "execution_count": 31,
     "metadata": {},
     "output_type": "execute_result"
    }
   ],
   "source": [
    "db_connection()\n",
    "cursor.execute('''SELECT * FROM yanki.customers;''')\n",
    "cursor.fetchone()"
   ]
  },
  {
   "cell_type": "code",
   "execution_count": 32,
   "metadata": {},
   "outputs": [
    {
     "data": {
      "text/plain": [
       "<function connection.close>"
      ]
     },
     "execution_count": 32,
     "metadata": {},
     "output_type": "execute_result"
    }
   ],
   "source": [
    "# load products table \n",
    "db_connection()\n",
    "csv_path = r'../datasets/cleaned dataset/product_df.csv'\n",
    "\n",
    "with open(csv_path, 'r') as file:\n",
    "    reader = csv.reader(file)\n",
    "    next(reader)\n",
    "    for row in reader:\n",
    "        cursor.execute('''\n",
    "            INSERT INTO yanki.products(Product_ID, Product_Name, Brand, Category, Price)\n",
    "            VALUES (%s, %s, %s, %s, %s);''' , row\n",
    "        )\n",
    "conn.commit\n",
    "cursor.close\n",
    "conn.close"
   ]
  },
  {
   "cell_type": "code",
   "execution_count": 33,
   "metadata": {},
   "outputs": [
    {
     "data": {
      "text/plain": [
       "<function connection.close>"
      ]
     },
     "execution_count": 33,
     "metadata": {},
     "output_type": "execute_result"
    }
   ],
   "source": [
    "# load shipping_address table \n",
    "db_connection()\n",
    "csv_path = r'../datasets/cleaned dataset/shipping_address_df.csv'\n",
    "\n",
    "with open(csv_path, 'r') as file:\n",
    "    reader = csv.reader(file)\n",
    "    next(reader)\n",
    "    for row in reader:\n",
    "        cursor.execute('''\n",
    "            INSERT INTO yanki.shipping_address(Shipping_ID, Customer_ID, Shipping_Address, City, State, Country, Postal_Code)\n",
    "            VALUES (%s, %s, %s, %s, %s, %s, %s);''' , row\n",
    "        )\n",
    "conn.commit\n",
    "cursor.close\n",
    "conn.close"
   ]
  },
  {
   "cell_type": "code",
   "execution_count": 34,
   "metadata": {},
   "outputs": [
    {
     "data": {
      "text/plain": [
       "<function connection.close>"
      ]
     },
     "execution_count": 34,
     "metadata": {},
     "output_type": "execute_result"
    }
   ],
   "source": [
    "# load orders table \n",
    "db_connection()\n",
    "csv_path = r'../datasets/cleaned dataset/orders_df.csv'\n",
    "\n",
    "with open(csv_path, 'r') as file:\n",
    "    reader = csv.reader(file)\n",
    "    next(reader)\n",
    "    for row in reader:\n",
    "        cursor.execute('''\n",
    "            INSERT INTO yanki.orders(Order_ID, Customer_ID, Product_ID, Quantity, Total_Price, Order_Date)\n",
    "            VALUES (%s, %s, %s, %s, %s, %s);''' , row\n",
    "        )\n",
    "conn.commit\n",
    "cursor.close\n",
    "conn.close"
   ]
  },
  {
   "cell_type": "code",
   "execution_count": 36,
   "metadata": {},
   "outputs": [
    {
     "data": {
      "text/plain": [
       "<function connection.close>"
      ]
     },
     "execution_count": 36,
     "metadata": {},
     "output_type": "execute_result"
    }
   ],
   "source": [
    "# load payment_method table \n",
    "db_connection()\n",
    "csv_path = r'../datasets/cleaned dataset/payment_method_df.csv'\n",
    "\n",
    "with open(csv_path, 'r') as file:\n",
    "    reader = csv.reader(file)\n",
    "    next(reader)\n",
    "    for row in reader:\n",
    "        cursor.execute('''\n",
    "            INSERT INTO yanki.payment_method(Order_ID, Payment_Method, Transaction_Status)\n",
    "            VALUES (%s, %s, %s);''' , row\n",
    "        )\n",
    "conn.commit\n",
    "cursor.close\n",
    "conn.close"
   ]
  }
 ],
 "metadata": {
  "kernelspec": {
   "display_name": "base",
   "language": "python",
   "name": "python3"
  },
  "language_info": {
   "codemirror_mode": {
    "name": "ipython",
    "version": 3
   },
   "file_extension": ".py",
   "mimetype": "text/x-python",
   "name": "python",
   "nbconvert_exporter": "python",
   "pygments_lexer": "ipython3",
   "version": "3.11.7"
  }
 },
 "nbformat": 4,
 "nbformat_minor": 2
}
