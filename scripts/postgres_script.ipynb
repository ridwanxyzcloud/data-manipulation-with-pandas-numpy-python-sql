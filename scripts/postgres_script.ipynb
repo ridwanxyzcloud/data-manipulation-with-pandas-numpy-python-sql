{
 "cells": [
  {
   "cell_type": "markdown",
   "metadata": {},
   "source": [
    "# Loading data into a postgresSQL Database"
   ]
  },
  {
   "cell_type": "code",
   "execution_count": 1,
   "metadata": {},
   "outputs": [],
   "source": [
    "import psycopg2 \n"
   ]
  },
  {
   "cell_type": "code",
   "execution_count": 6,
   "metadata": {},
   "outputs": [],
   "source": [
    "def db_connection():\n",
    "    connection = psycopg2.connect(\n",
    "        user = \"ridwanclouds\",\n",
    "        password = \"password\",\n",
    "        database = \"yanki_ecommerce\",\n",
    "        host = \"localhost\",\n",
    "        port = \"5432\"\n",
    "    )\n",
    "    return connection"
   ]
  },
  {
   "cell_type": "code",
   "execution_count": 9,
   "metadata": {},
   "outputs": [],
   "source": [
    "conn = db_connection()\n",
    "cursor = conn.cursor()\n",
    "conn.autocommit=True"
   ]
  },
  {
   "cell_type": "code",
   "execution_count": null,
   "metadata": {},
   "outputs": [],
   "source": [
    "# create customer table\n",
    "cursor.execute(\n",
    "    ''' \n",
    "    CREATE SCHEMA IF NOT EXISTS yanki;\n",
    "    DROP TABLE IF EXISTS yanki.customers CASCADE;\n",
    "    DROP TABLE IF EXISTS yanki.products CASCADE;\n",
    "    DROP TABLE IF EXISTS yanki.shipping_address CASCADE;\n",
    "    DROP TABLE IF EXISTS yanki.orders CASCADE;\n",
    "    DROP TABLE IF EXISTS yanki.payment_method CASCADE;\n",
    "\n",
    "    CREATE TABLE IF EXISTS yanki.customers(\n",
    "        Customer_ID UUID PRIMARY KEY,\n",
    "        Customer_Name TEXT,\n",
    "        Email TEXT,\n",
    "        Phone_Number TEXT\n",
    "    );\n",
    "\n",
    "    CREATE TABLE IF EXISTS yanki.products(\n",
    "        Product_ID UUID PRIMARY KEY,\n",
    "        Product_Name TEXT,\n",
    "        Category TEXT,\n",
    "        Price FLOAT\n",
    "    );\n",
    "\n",
    "    CREATE TABLE IF EXISTS yanki.shipping_address(\n",
    "        Shipping_ID SERIAL PRIMARY KEY,\n",
    "        Customer_ID UUID,\n",
    "        Shipping_Address TEXT,\n",
    "        City TEXT,\n",
    "        State TEXT,\n",
    "        Country TEXT,\n",
    "        Postal_Code INTEGER,\n",
    "        FOREIGN KEY (Customer_ID) REFERENCES yanki.customers(Customer_ID)\n",
    "    );\n",
    "\n",
    "    CREATE TABLE IF EXISTS yanki.orders(\n",
    "        Order_ID UUID PRIMARY KEY,\n",
    "        Customer_ID UUID,\n",
    "        Product_ID UUID,\n",
    "        Quantity INTEGER,\n",
    "        Total_Price FLOAT,\n",
    "        Order_Date DATETIME,\n",
    "        FOREIGN KEY (Customer_ID) REFERENCES yanki.customers(Customer_ID),\n",
    "        FOREIGN KEY (Product_ID) REFERENCES yanki.products(Product_ID)\n",
    "    );\n",
    "\n",
    "    \n",
    "    CREATE TABLE IF EXISTS yanki.payment_method(\n",
    "        Order_ID UUID,\n",
    "        Payment_Method TEXT,\n",
    "        Transaction_Status TEXT,\n",
    "        FOREIGN KEY (Order_ID) REFERENCES yanki.orders(Order_ID)\n",
    "    );\n",
    "\n",
    "    '''\n",
    ")"
   ]
  }
 ],
 "metadata": {
  "kernelspec": {
   "display_name": "base",
   "language": "python",
   "name": "python3"
  },
  "language_info": {
   "codemirror_mode": {
    "name": "ipython",
    "version": 3
   },
   "file_extension": ".py",
   "mimetype": "text/x-python",
   "name": "python",
   "nbconvert_exporter": "python",
   "pygments_lexer": "ipython3",
   "version": "3.11.7"
  }
 },
 "nbformat": 4,
 "nbformat_minor": 2
}
