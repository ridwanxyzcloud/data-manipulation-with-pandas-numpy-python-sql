{
 "cells": [
  {
   "cell_type": "code",
   "execution_count": 1,
   "metadata": {},
   "outputs": [],
   "source": [
    "import pandas as pd\n",
    "import numpy as np"
   ]
  },
  {
   "cell_type": "code",
   "execution_count": 13,
   "metadata": {},
   "outputs": [
    {
     "data": {
      "text/html": [
       "<div>\n",
       "<style scoped>\n",
       "    .dataframe tbody tr th:only-of-type {\n",
       "        vertical-align: middle;\n",
       "    }\n",
       "\n",
       "    .dataframe tbody tr th {\n",
       "        vertical-align: top;\n",
       "    }\n",
       "\n",
       "    .dataframe thead th {\n",
       "        text-align: right;\n",
       "    }\n",
       "</style>\n",
       "<table border=\"1\" class=\"dataframe\">\n",
       "  <thead>\n",
       "    <tr style=\"text-align: right;\">\n",
       "      <th></th>\n",
       "      <th>Order_ID</th>\n",
       "      <th>Customer_ID</th>\n",
       "      <th>Customer_Name</th>\n",
       "      <th>Product_ID</th>\n",
       "      <th>Product_Name</th>\n",
       "      <th>Brand</th>\n",
       "      <th>Category</th>\n",
       "      <th>Price</th>\n",
       "      <th>Quantity</th>\n",
       "      <th>Total_Price</th>\n",
       "      <th>Order_Date</th>\n",
       "      <th>Shipping_Address</th>\n",
       "      <th>City</th>\n",
       "      <th>State</th>\n",
       "      <th>Country</th>\n",
       "      <th>Postal_Code</th>\n",
       "      <th>Email</th>\n",
       "      <th>Phone_Number</th>\n",
       "      <th>Payment_Method</th>\n",
       "      <th>Transaction_Status</th>\n",
       "    </tr>\n",
       "  </thead>\n",
       "  <tbody>\n",
       "    <tr>\n",
       "      <th>0</th>\n",
       "      <td>NaN</td>\n",
       "      <td>NaN</td>\n",
       "      <td>NaN</td>\n",
       "      <td>64b689a8-bf03-47d2-a5cc-0723baeb1606</td>\n",
       "      <td>major</td>\n",
       "      <td>Haynes PLC</td>\n",
       "      <td>perfume</td>\n",
       "      <td>52.34</td>\n",
       "      <td>2</td>\n",
       "      <td>104.68</td>\n",
       "      <td>2020-05-27 14:20:38.292975</td>\n",
       "      <td>1648 Brown Bridge Apt. 846\\nCaitlinland, MI 57992</td>\n",
       "      <td>Davidstad</td>\n",
       "      <td>Utah</td>\n",
       "      <td>China</td>\n",
       "      <td>50247</td>\n",
       "      <td>karen64@example.com</td>\n",
       "      <td>001-217-511-0290x8262</td>\n",
       "      <td>Credit Card</td>\n",
       "      <td>completed</td>\n",
       "    </tr>\n",
       "    <tr>\n",
       "      <th>1</th>\n",
       "      <td>NaN</td>\n",
       "      <td>NaN</td>\n",
       "      <td>NaN</td>\n",
       "      <td>64b689a8-bf03-47d2-a5cc-0723baeb1606</td>\n",
       "      <td>major</td>\n",
       "      <td>Haynes PLC</td>\n",
       "      <td>perfume</td>\n",
       "      <td>52.34</td>\n",
       "      <td>2</td>\n",
       "      <td>104.68</td>\n",
       "      <td>2020-05-27 14:20:38.292975</td>\n",
       "      <td>1648 Brown Bridge Apt. 846\\nCaitlinland, MI 57992</td>\n",
       "      <td>Davidstad</td>\n",
       "      <td>Utah</td>\n",
       "      <td>China</td>\n",
       "      <td>50247</td>\n",
       "      <td>karen64@example.com</td>\n",
       "      <td>001-217-511-0290x8262</td>\n",
       "      <td>Credit Card</td>\n",
       "      <td>completed</td>\n",
       "    </tr>\n",
       "    <tr>\n",
       "      <th>2</th>\n",
       "      <td>e32af09a-b6ab-497e-af3a-331e4d4ed6e7</td>\n",
       "      <td>e0d6cb3c-c4b0-4cfe-8225-b65d094d2424</td>\n",
       "      <td>Dominic Buchanan</td>\n",
       "      <td>2ef6e8fa-6a36-4515-b1c2-a0a700abf386</td>\n",
       "      <td>despite</td>\n",
       "      <td>Lawson, Stone and Campos</td>\n",
       "      <td>perfume oil</td>\n",
       "      <td>250.57</td>\n",
       "      <td>2</td>\n",
       "      <td>501.14</td>\n",
       "      <td>2020-03-06 06:49:07.272117</td>\n",
       "      <td>PSC 2224, Box 2284\\nAPO AP 65880</td>\n",
       "      <td>Jordanborough</td>\n",
       "      <td>Arkansas</td>\n",
       "      <td>Kuwait</td>\n",
       "      <td>27879</td>\n",
       "      <td>margaret97@example.com</td>\n",
       "      <td>259.603.6134</td>\n",
       "      <td>Debit Card</td>\n",
       "      <td>completed</td>\n",
       "    </tr>\n",
       "  </tbody>\n",
       "</table>\n",
       "</div>"
      ],
      "text/plain": [
       "                               Order_ID                           Customer_ID  \\\n",
       "0                                   NaN                                   NaN   \n",
       "1                                   NaN                                   NaN   \n",
       "2  e32af09a-b6ab-497e-af3a-331e4d4ed6e7  e0d6cb3c-c4b0-4cfe-8225-b65d094d2424   \n",
       "\n",
       "      Customer_Name                            Product_ID Product_Name  \\\n",
       "0               NaN  64b689a8-bf03-47d2-a5cc-0723baeb1606        major   \n",
       "1               NaN  64b689a8-bf03-47d2-a5cc-0723baeb1606        major   \n",
       "2  Dominic Buchanan  2ef6e8fa-6a36-4515-b1c2-a0a700abf386      despite   \n",
       "\n",
       "                      Brand     Category   Price  Quantity  Total_Price  \\\n",
       "0                Haynes PLC      perfume   52.34         2       104.68   \n",
       "1                Haynes PLC      perfume   52.34         2       104.68   \n",
       "2  Lawson, Stone and Campos  perfume oil  250.57         2       501.14   \n",
       "\n",
       "                   Order_Date  \\\n",
       "0  2020-05-27 14:20:38.292975   \n",
       "1  2020-05-27 14:20:38.292975   \n",
       "2  2020-03-06 06:49:07.272117   \n",
       "\n",
       "                                    Shipping_Address           City     State  \\\n",
       "0  1648 Brown Bridge Apt. 846\\nCaitlinland, MI 57992      Davidstad      Utah   \n",
       "1  1648 Brown Bridge Apt. 846\\nCaitlinland, MI 57992      Davidstad      Utah   \n",
       "2                   PSC 2224, Box 2284\\nAPO AP 65880  Jordanborough  Arkansas   \n",
       "\n",
       "  Country  Postal_Code                   Email           Phone_Number  \\\n",
       "0   China        50247     karen64@example.com  001-217-511-0290x8262   \n",
       "1   China        50247     karen64@example.com  001-217-511-0290x8262   \n",
       "2  Kuwait        27879  margaret97@example.com           259.603.6134   \n",
       "\n",
       "  Payment_Method Transaction_Status  \n",
       "0    Credit Card          completed  \n",
       "1    Credit Card          completed  \n",
       "2     Debit Card          completed  "
      ]
     },
     "execution_count": 13,
     "metadata": {},
     "output_type": "execute_result"
    }
   ],
   "source": [
    "# read the raw dataset to a DataFrame using the relative path\n",
    "yanki_df = pd.read_csv(r\"../datasets/raw dataset/yanki_ecommerce.csv\")\n",
    "yanki_df.head(3)"
   ]
  },
  {
   "cell_type": "code",
   "execution_count": 14,
   "metadata": {},
   "outputs": [
    {
     "name": "stdout",
     "output_type": "stream",
     "text": [
      "<class 'pandas.core.frame.DataFrame'>\n",
      "RangeIndex: 1020 entries, 0 to 1019\n",
      "Data columns (total 20 columns):\n",
      " #   Column              Non-Null Count  Dtype  \n",
      "---  ------              --------------  -----  \n",
      " 0   Order_ID            1000 non-null   object \n",
      " 1   Customer_ID         1000 non-null   object \n",
      " 2   Customer_Name       1000 non-null   object \n",
      " 3   Product_ID          1020 non-null   object \n",
      " 4   Product_Name        1020 non-null   object \n",
      " 5   Brand               1020 non-null   object \n",
      " 6   Category            1020 non-null   object \n",
      " 7   Price               1020 non-null   float64\n",
      " 8   Quantity            1020 non-null   int64  \n",
      " 9   Total_Price         1020 non-null   float64\n",
      " 10  Order_Date          1020 non-null   object \n",
      " 11  Shipping_Address    1020 non-null   object \n",
      " 12  City                1020 non-null   object \n",
      " 13  State               1020 non-null   object \n",
      " 14  Country             1020 non-null   object \n",
      " 15  Postal_Code         1020 non-null   int64  \n",
      " 16  Email               1020 non-null   object \n",
      " 17  Phone_Number        1020 non-null   object \n",
      " 18  Payment_Method      1020 non-null   object \n",
      " 19  Transaction_Status  1020 non-null   object \n",
      "dtypes: float64(2), int64(2), object(16)\n",
      "memory usage: 159.5+ KB\n"
     ]
    }
   ],
   "source": [
    "yanki_df.info()"
   ]
  },
  {
   "cell_type": "code",
   "execution_count": 17,
   "metadata": {},
   "outputs": [
    {
     "data": {
      "text/plain": [
       "Index(['Order_ID', 'Customer_ID', 'Customer_Name', 'Product_ID',\n",
       "       'Product_Name', 'Brand', 'Category', 'Price', 'Quantity', 'Total_Price',\n",
       "       'Order_Date', 'Shipping_Address', 'City', 'State', 'Country',\n",
       "       'Postal_Code', 'Email', 'Phone_Number', 'Payment_Method',\n",
       "       'Transaction_Status'],\n",
       "      dtype='object')"
      ]
     },
     "execution_count": 17,
     "metadata": {},
     "output_type": "execute_result"
    }
   ],
   "source": [
    "yanki_df.columns"
   ]
  },
  {
   "cell_type": "markdown",
   "metadata": {},
   "source": [
    "# The next thing to do will be to build the data model to prepare the architectural plan "
   ]
  },
  {
   "cell_type": "code",
   "execution_count": 20,
   "metadata": {},
   "outputs": [
    {
     "name": "stdout",
     "output_type": "stream",
     "text": [
      "zsh:1: parse error near `[../data'\n"
     ]
    }
   ],
   "source": [
    "!(Data Model)[../data model/yanki_ecommerce-Page-2.drawio.png]"
   ]
  },
  {
   "cell_type": "code",
   "execution_count": null,
   "metadata": {},
   "outputs": [],
   "source": []
  },
  {
   "cell_type": "markdown",
   "metadata": {},
   "source": [
    "# Data Cleaning and Transaformation\n"
   ]
  },
  {
   "cell_type": "code",
   "execution_count": 22,
   "metadata": {},
   "outputs": [
    {
     "name": "stdout",
     "output_type": "stream",
     "text": [
      "<class 'pandas.core.frame.DataFrame'>\n",
      "Index: 1000 entries, 2 to 1019\n",
      "Data columns (total 20 columns):\n",
      " #   Column              Non-Null Count  Dtype  \n",
      "---  ------              --------------  -----  \n",
      " 0   Order_ID            1000 non-null   object \n",
      " 1   Customer_ID         1000 non-null   object \n",
      " 2   Customer_Name       1000 non-null   object \n",
      " 3   Product_ID          1000 non-null   object \n",
      " 4   Product_Name        1000 non-null   object \n",
      " 5   Brand               1000 non-null   object \n",
      " 6   Category            1000 non-null   object \n",
      " 7   Price               1000 non-null   float64\n",
      " 8   Quantity            1000 non-null   int64  \n",
      " 9   Total_Price         1000 non-null   float64\n",
      " 10  Order_Date          1000 non-null   object \n",
      " 11  Shipping_Address    1000 non-null   object \n",
      " 12  City                1000 non-null   object \n",
      " 13  State               1000 non-null   object \n",
      " 14  Country             1000 non-null   object \n",
      " 15  Postal_Code         1000 non-null   int64  \n",
      " 16  Email               1000 non-null   object \n",
      " 17  Phone_Number        1000 non-null   object \n",
      " 18  Payment_Method      1000 non-null   object \n",
      " 19  Transaction_Status  1000 non-null   object \n",
      "dtypes: float64(2), int64(2), object(16)\n",
      "memory usage: 164.1+ KB\n"
     ]
    }
   ],
   "source": [
    "# drop missing values\n",
    "\n",
    "yanki_df.dropna(subset=['Order_ID', 'Customer_ID'], inplace=True)\n",
    "\n",
    "yanki_df.info()\n"
   ]
  },
  {
   "cell_type": "code",
   "execution_count": 24,
   "metadata": {},
   "outputs": [
    {
     "name": "stdout",
     "output_type": "stream",
     "text": [
      "<class 'pandas.core.frame.DataFrame'>\n",
      "Index: 1000 entries, 2 to 1019\n",
      "Data columns (total 20 columns):\n",
      " #   Column              Non-Null Count  Dtype         \n",
      "---  ------              --------------  -----         \n",
      " 0   Order_ID            1000 non-null   object        \n",
      " 1   Customer_ID         1000 non-null   object        \n",
      " 2   Customer_Name       1000 non-null   object        \n",
      " 3   Product_ID          1000 non-null   object        \n",
      " 4   Product_Name        1000 non-null   object        \n",
      " 5   Brand               1000 non-null   object        \n",
      " 6   Category            1000 non-null   object        \n",
      " 7   Price               1000 non-null   float64       \n",
      " 8   Quantity            1000 non-null   int64         \n",
      " 9   Total_Price         1000 non-null   float64       \n",
      " 10  Order_Date          1000 non-null   datetime64[ns]\n",
      " 11  Shipping_Address    1000 non-null   object        \n",
      " 12  City                1000 non-null   object        \n",
      " 13  State               1000 non-null   object        \n",
      " 14  Country             1000 non-null   object        \n",
      " 15  Postal_Code         1000 non-null   int64         \n",
      " 16  Email               1000 non-null   object        \n",
      " 17  Phone_Number        1000 non-null   object        \n",
      " 18  Payment_Method      1000 non-null   object        \n",
      " 19  Transaction_Status  1000 non-null   object        \n",
      "dtypes: datetime64[ns](1), float64(2), int64(2), object(15)\n",
      "memory usage: 164.1+ KB\n"
     ]
    }
   ],
   "source": [
    "# date column should be in a datetime datatype \n",
    "\n",
    "# convert order_Date fom string to datetime\n",
    "yanki_df['Order_Date'] = pd.to_datetime(yanki_df['Order_Date'])\n",
    "\n",
    "yanki_df.info()"
   ]
  },
  {
   "cell_type": "markdown",
   "metadata": {},
   "source": [
    "### customer_df table"
   ]
  },
  {
   "cell_type": "code",
   "execution_count": 26,
   "metadata": {},
   "outputs": [
    {
     "data": {
      "text/html": [
       "<div>\n",
       "<style scoped>\n",
       "    .dataframe tbody tr th:only-of-type {\n",
       "        vertical-align: middle;\n",
       "    }\n",
       "\n",
       "    .dataframe tbody tr th {\n",
       "        vertical-align: top;\n",
       "    }\n",
       "\n",
       "    .dataframe thead th {\n",
       "        text-align: right;\n",
       "    }\n",
       "</style>\n",
       "<table border=\"1\" class=\"dataframe\">\n",
       "  <thead>\n",
       "    <tr style=\"text-align: right;\">\n",
       "      <th></th>\n",
       "      <th>Customer_ID</th>\n",
       "      <th>Customer_Name</th>\n",
       "      <th>Email</th>\n",
       "      <th>Phone_Number</th>\n",
       "    </tr>\n",
       "  </thead>\n",
       "  <tbody>\n",
       "    <tr>\n",
       "      <th>0</th>\n",
       "      <td>e0d6cb3c-c4b0-4cfe-8225-b65d094d2424</td>\n",
       "      <td>Dominic Buchanan</td>\n",
       "      <td>margaret97@example.com</td>\n",
       "      <td>259.603.6134</td>\n",
       "    </tr>\n",
       "    <tr>\n",
       "      <th>1</th>\n",
       "      <td>fa3ca35a-5540-404b-a7eb-9001cdcbd840</td>\n",
       "      <td>Daniel Allen</td>\n",
       "      <td>angela55@example.com</td>\n",
       "      <td>+1-869-659-4272x982</td>\n",
       "    </tr>\n",
       "    <tr>\n",
       "      <th>2</th>\n",
       "      <td>7ad4de53-e6d7-4cd3-99b8-13fb70fe7a34</td>\n",
       "      <td>Daniel Schmidt</td>\n",
       "      <td>wayne59@example.org</td>\n",
       "      <td>292.840.0975x724</td>\n",
       "    </tr>\n",
       "  </tbody>\n",
       "</table>\n",
       "</div>"
      ],
      "text/plain": [
       "                            Customer_ID     Customer_Name  \\\n",
       "0  e0d6cb3c-c4b0-4cfe-8225-b65d094d2424  Dominic Buchanan   \n",
       "1  fa3ca35a-5540-404b-a7eb-9001cdcbd840      Daniel Allen   \n",
       "2  7ad4de53-e6d7-4cd3-99b8-13fb70fe7a34    Daniel Schmidt   \n",
       "\n",
       "                    Email         Phone_Number  \n",
       "0  margaret97@example.com         259.603.6134  \n",
       "1    angela55@example.com  +1-869-659-4272x982  \n",
       "2     wayne59@example.org     292.840.0975x724  "
      ]
     },
     "execution_count": 26,
     "metadata": {},
     "output_type": "execute_result"
    }
   ],
   "source": [
    "customer_df = yanki_df[['Customer_ID','Customer_Name','Email', 'Phone_Number']].copy().drop_duplicates().reset_index(drop=True)\n",
    "customer_df.head(3)"
   ]
  },
  {
   "cell_type": "markdown",
   "metadata": {},
   "source": [
    "### product_df table"
   ]
  },
  {
   "cell_type": "code",
   "execution_count": 28,
   "metadata": {},
   "outputs": [
    {
     "data": {
      "text/html": [
       "<div>\n",
       "<style scoped>\n",
       "    .dataframe tbody tr th:only-of-type {\n",
       "        vertical-align: middle;\n",
       "    }\n",
       "\n",
       "    .dataframe tbody tr th {\n",
       "        vertical-align: top;\n",
       "    }\n",
       "\n",
       "    .dataframe thead th {\n",
       "        text-align: right;\n",
       "    }\n",
       "</style>\n",
       "<table border=\"1\" class=\"dataframe\">\n",
       "  <thead>\n",
       "    <tr style=\"text-align: right;\">\n",
       "      <th></th>\n",
       "      <th>Product_ID</th>\n",
       "      <th>Product_Name</th>\n",
       "      <th>Brand</th>\n",
       "      <th>Category</th>\n",
       "      <th>Price</th>\n",
       "    </tr>\n",
       "  </thead>\n",
       "  <tbody>\n",
       "    <tr>\n",
       "      <th>0</th>\n",
       "      <td>2ef6e8fa-6a36-4515-b1c2-a0a700abf386</td>\n",
       "      <td>despite</td>\n",
       "      <td>Lawson, Stone and Campos</td>\n",
       "      <td>perfume oil</td>\n",
       "      <td>250.57</td>\n",
       "    </tr>\n",
       "    <tr>\n",
       "      <th>1</th>\n",
       "      <td>3ba38e01-f8e7-4af2-9246-87ef0961d4f5</td>\n",
       "      <td>sea</td>\n",
       "      <td>Washington Group</td>\n",
       "      <td>perfume oil</td>\n",
       "      <td>179.81</td>\n",
       "    </tr>\n",
       "    <tr>\n",
       "      <th>2</th>\n",
       "      <td>a58c53bd-a34b-4541-b926-bec9eb84cac2</td>\n",
       "      <td>suddenly</td>\n",
       "      <td>Rodgers Ltd</td>\n",
       "      <td>perfume oil</td>\n",
       "      <td>600.55</td>\n",
       "    </tr>\n",
       "  </tbody>\n",
       "</table>\n",
       "</div>"
      ],
      "text/plain": [
       "                             Product_ID Product_Name  \\\n",
       "0  2ef6e8fa-6a36-4515-b1c2-a0a700abf386      despite   \n",
       "1  3ba38e01-f8e7-4af2-9246-87ef0961d4f5          sea   \n",
       "2  a58c53bd-a34b-4541-b926-bec9eb84cac2     suddenly   \n",
       "\n",
       "                      Brand     Category   Price  \n",
       "0  Lawson, Stone and Campos  perfume oil  250.57  \n",
       "1          Washington Group  perfume oil  179.81  \n",
       "2               Rodgers Ltd  perfume oil  600.55  "
      ]
     },
     "execution_count": 28,
     "metadata": {},
     "output_type": "execute_result"
    }
   ],
   "source": [
    "product_df = yanki_df[['Product_ID','Product_Name','Brand','Category','Price']].copy().drop_duplicates().reset_index(drop=True)\n",
    "product_df.head(3)"
   ]
  },
  {
   "cell_type": "markdown",
   "metadata": {},
   "source": [
    "### shipping_address_df table"
   ]
  },
  {
   "cell_type": "code",
   "execution_count": 36,
   "metadata": {},
   "outputs": [
    {
     "data": {
      "text/html": [
       "<div>\n",
       "<style scoped>\n",
       "    .dataframe tbody tr th:only-of-type {\n",
       "        vertical-align: middle;\n",
       "    }\n",
       "\n",
       "    .dataframe tbody tr th {\n",
       "        vertical-align: top;\n",
       "    }\n",
       "\n",
       "    .dataframe thead th {\n",
       "        text-align: right;\n",
       "    }\n",
       "</style>\n",
       "<table border=\"1\" class=\"dataframe\">\n",
       "  <thead>\n",
       "    <tr style=\"text-align: right;\">\n",
       "      <th></th>\n",
       "      <th>Customer_ID</th>\n",
       "      <th>Shipping_Address</th>\n",
       "      <th>City</th>\n",
       "      <th>State</th>\n",
       "      <th>Country</th>\n",
       "      <th>Postal_Code</th>\n",
       "    </tr>\n",
       "  </thead>\n",
       "  <tbody>\n",
       "    <tr>\n",
       "      <th>0</th>\n",
       "      <td>e0d6cb3c-c4b0-4cfe-8225-b65d094d2424</td>\n",
       "      <td>PSC 2224, Box 2284\\nAPO AP 65880</td>\n",
       "      <td>Jordanborough</td>\n",
       "      <td>Arkansas</td>\n",
       "      <td>Kuwait</td>\n",
       "      <td>27879</td>\n",
       "    </tr>\n",
       "    <tr>\n",
       "      <th>1</th>\n",
       "      <td>fa3ca35a-5540-404b-a7eb-9001cdcbd840</td>\n",
       "      <td>83909 Johnson Mall\\nTranberg, MS 99017</td>\n",
       "      <td>Lake Ginatown</td>\n",
       "      <td>Georgia</td>\n",
       "      <td>Saint Vincent and the Grenadines</td>\n",
       "      <td>39336</td>\n",
       "    </tr>\n",
       "    <tr>\n",
       "      <th>2</th>\n",
       "      <td>7ad4de53-e6d7-4cd3-99b8-13fb70fe7a34</td>\n",
       "      <td>82101 Johnson Flat\\nWest Ryan, MS 29075</td>\n",
       "      <td>Sarahville</td>\n",
       "      <td>Ohio</td>\n",
       "      <td>France</td>\n",
       "      <td>30845</td>\n",
       "    </tr>\n",
       "  </tbody>\n",
       "</table>\n",
       "</div>"
      ],
      "text/plain": [
       "                            Customer_ID  \\\n",
       "0  e0d6cb3c-c4b0-4cfe-8225-b65d094d2424   \n",
       "1  fa3ca35a-5540-404b-a7eb-9001cdcbd840   \n",
       "2  7ad4de53-e6d7-4cd3-99b8-13fb70fe7a34   \n",
       "\n",
       "                          Shipping_Address           City     State  \\\n",
       "0         PSC 2224, Box 2284\\nAPO AP 65880  Jordanborough  Arkansas   \n",
       "1   83909 Johnson Mall\\nTranberg, MS 99017  Lake Ginatown   Georgia   \n",
       "2  82101 Johnson Flat\\nWest Ryan, MS 29075     Sarahville      Ohio   \n",
       "\n",
       "                            Country  Postal_Code  \n",
       "0                            Kuwait        27879  \n",
       "1  Saint Vincent and the Grenadines        39336  \n",
       "2                            France        30845  "
      ]
     },
     "execution_count": 36,
     "metadata": {},
     "output_type": "execute_result"
    }
   ],
   "source": [
    "shipping_address_df = yanki_df[['Customer_ID','Shipping_Address', 'City', 'State', 'Country','Postal_Code']].copy().drop_duplicates().reset_index(drop=True)\n",
    "shipping_address_df.head(3)"
   ]
  },
  {
   "cell_type": "code",
   "execution_count": 37,
   "metadata": {},
   "outputs": [
    {
     "data": {
      "text/html": [
       "<div>\n",
       "<style scoped>\n",
       "    .dataframe tbody tr th:only-of-type {\n",
       "        vertical-align: middle;\n",
       "    }\n",
       "\n",
       "    .dataframe tbody tr th {\n",
       "        vertical-align: top;\n",
       "    }\n",
       "\n",
       "    .dataframe thead th {\n",
       "        text-align: right;\n",
       "    }\n",
       "</style>\n",
       "<table border=\"1\" class=\"dataframe\">\n",
       "  <thead>\n",
       "    <tr style=\"text-align: right;\">\n",
       "      <th></th>\n",
       "      <th>shiiping_ID</th>\n",
       "      <th>Customer_ID</th>\n",
       "      <th>Shipping_Address</th>\n",
       "      <th>City</th>\n",
       "      <th>State</th>\n",
       "      <th>Country</th>\n",
       "      <th>Postal_Code</th>\n",
       "    </tr>\n",
       "  </thead>\n",
       "  <tbody>\n",
       "    <tr>\n",
       "      <th>0</th>\n",
       "      <td>0</td>\n",
       "      <td>e0d6cb3c-c4b0-4cfe-8225-b65d094d2424</td>\n",
       "      <td>PSC 2224, Box 2284\\nAPO AP 65880</td>\n",
       "      <td>Jordanborough</td>\n",
       "      <td>Arkansas</td>\n",
       "      <td>Kuwait</td>\n",
       "      <td>27879</td>\n",
       "    </tr>\n",
       "    <tr>\n",
       "      <th>1</th>\n",
       "      <td>1</td>\n",
       "      <td>fa3ca35a-5540-404b-a7eb-9001cdcbd840</td>\n",
       "      <td>83909 Johnson Mall\\nTranberg, MS 99017</td>\n",
       "      <td>Lake Ginatown</td>\n",
       "      <td>Georgia</td>\n",
       "      <td>Saint Vincent and the Grenadines</td>\n",
       "      <td>39336</td>\n",
       "    </tr>\n",
       "    <tr>\n",
       "      <th>2</th>\n",
       "      <td>2</td>\n",
       "      <td>7ad4de53-e6d7-4cd3-99b8-13fb70fe7a34</td>\n",
       "      <td>82101 Johnson Flat\\nWest Ryan, MS 29075</td>\n",
       "      <td>Sarahville</td>\n",
       "      <td>Ohio</td>\n",
       "      <td>France</td>\n",
       "      <td>30845</td>\n",
       "    </tr>\n",
       "  </tbody>\n",
       "</table>\n",
       "</div>"
      ],
      "text/plain": [
       "   shiiping_ID                           Customer_ID  \\\n",
       "0            0  e0d6cb3c-c4b0-4cfe-8225-b65d094d2424   \n",
       "1            1  fa3ca35a-5540-404b-a7eb-9001cdcbd840   \n",
       "2            2  7ad4de53-e6d7-4cd3-99b8-13fb70fe7a34   \n",
       "\n",
       "                          Shipping_Address           City     State  \\\n",
       "0         PSC 2224, Box 2284\\nAPO AP 65880  Jordanborough  Arkansas   \n",
       "1   83909 Johnson Mall\\nTranberg, MS 99017  Lake Ginatown   Georgia   \n",
       "2  82101 Johnson Flat\\nWest Ryan, MS 29075     Sarahville      Ohio   \n",
       "\n",
       "                            Country  Postal_Code  \n",
       "0                            Kuwait        27879  \n",
       "1  Saint Vincent and the Grenadines        39336  \n",
       "2                            France        30845  "
      ]
     },
     "execution_count": 37,
     "metadata": {},
     "output_type": "execute_result"
    }
   ],
   "source": [
    "# making the label (index) a column\n",
    "# name the index as 'shiiping_ID'\n",
    "#then reset index\n",
    "\n",
    "shipping_address_df.index.name = 'shiiping_ID'\n",
    "shipping_address_df = shipping_address_df.reset_index()\n",
    "shipping_address_df.head(3)"
   ]
  },
  {
   "cell_type": "code",
   "execution_count": 33,
   "metadata": {},
   "outputs": [
    {
     "data": {
      "text/html": [
       "<div>\n",
       "<style scoped>\n",
       "    .dataframe tbody tr th:only-of-type {\n",
       "        vertical-align: middle;\n",
       "    }\n",
       "\n",
       "    .dataframe tbody tr th {\n",
       "        vertical-align: top;\n",
       "    }\n",
       "\n",
       "    .dataframe thead th {\n",
       "        text-align: right;\n",
       "    }\n",
       "</style>\n",
       "<table border=\"1\" class=\"dataframe\">\n",
       "  <thead>\n",
       "    <tr style=\"text-align: right;\">\n",
       "      <th></th>\n",
       "      <th>shipping_ID</th>\n",
       "      <th>Customer_ID</th>\n",
       "      <th>Shipping_Address</th>\n",
       "      <th>City</th>\n",
       "      <th>State</th>\n",
       "      <th>Country</th>\n",
       "      <th>Postal_Code</th>\n",
       "    </tr>\n",
       "    <tr>\n",
       "      <th>shipping_ID</th>\n",
       "      <th></th>\n",
       "      <th></th>\n",
       "      <th></th>\n",
       "      <th></th>\n",
       "      <th></th>\n",
       "      <th></th>\n",
       "      <th></th>\n",
       "    </tr>\n",
       "  </thead>\n",
       "  <tbody>\n",
       "    <tr>\n",
       "      <th>0</th>\n",
       "      <td>0</td>\n",
       "      <td>e0d6cb3c-c4b0-4cfe-8225-b65d094d2424</td>\n",
       "      <td>PSC 2224, Box 2284\\nAPO AP 65880</td>\n",
       "      <td>Jordanborough</td>\n",
       "      <td>Arkansas</td>\n",
       "      <td>Kuwait</td>\n",
       "      <td>27879</td>\n",
       "    </tr>\n",
       "    <tr>\n",
       "      <th>1</th>\n",
       "      <td>1</td>\n",
       "      <td>fa3ca35a-5540-404b-a7eb-9001cdcbd840</td>\n",
       "      <td>83909 Johnson Mall\\nTranberg, MS 99017</td>\n",
       "      <td>Lake Ginatown</td>\n",
       "      <td>Georgia</td>\n",
       "      <td>Saint Vincent and the Grenadines</td>\n",
       "      <td>39336</td>\n",
       "    </tr>\n",
       "    <tr>\n",
       "      <th>2</th>\n",
       "      <td>2</td>\n",
       "      <td>7ad4de53-e6d7-4cd3-99b8-13fb70fe7a34</td>\n",
       "      <td>82101 Johnson Flat\\nWest Ryan, MS 29075</td>\n",
       "      <td>Sarahville</td>\n",
       "      <td>Ohio</td>\n",
       "      <td>France</td>\n",
       "      <td>30845</td>\n",
       "    </tr>\n",
       "  </tbody>\n",
       "</table>\n",
       "</div>"
      ],
      "text/plain": [
       "             shipping_ID                           Customer_ID  \\\n",
       "shipping_ID                                                      \n",
       "0                      0  e0d6cb3c-c4b0-4cfe-8225-b65d094d2424   \n",
       "1                      1  fa3ca35a-5540-404b-a7eb-9001cdcbd840   \n",
       "2                      2  7ad4de53-e6d7-4cd3-99b8-13fb70fe7a34   \n",
       "\n",
       "                                    Shipping_Address           City     State  \\\n",
       "shipping_ID                                                                     \n",
       "0                   PSC 2224, Box 2284\\nAPO AP 65880  Jordanborough  Arkansas   \n",
       "1             83909 Johnson Mall\\nTranberg, MS 99017  Lake Ginatown   Georgia   \n",
       "2            82101 Johnson Flat\\nWest Ryan, MS 29075     Sarahville      Ohio   \n",
       "\n",
       "                                      Country  Postal_Code  \n",
       "shipping_ID                                                 \n",
       "0                                      Kuwait        27879  \n",
       "1            Saint Vincent and the Grenadines        39336  \n",
       "2                                      France        30845  "
      ]
     },
     "execution_count": 33,
     "metadata": {},
     "output_type": "execute_result"
    }
   ],
   "source": [
    "shipping_address_df.head(3)"
   ]
  },
  {
   "cell_type": "markdown",
   "metadata": {},
   "source": [
    "### orders_df table"
   ]
  },
  {
   "cell_type": "code",
   "execution_count": 38,
   "metadata": {},
   "outputs": [
    {
     "data": {
      "text/html": [
       "<div>\n",
       "<style scoped>\n",
       "    .dataframe tbody tr th:only-of-type {\n",
       "        vertical-align: middle;\n",
       "    }\n",
       "\n",
       "    .dataframe tbody tr th {\n",
       "        vertical-align: top;\n",
       "    }\n",
       "\n",
       "    .dataframe thead th {\n",
       "        text-align: right;\n",
       "    }\n",
       "</style>\n",
       "<table border=\"1\" class=\"dataframe\">\n",
       "  <thead>\n",
       "    <tr style=\"text-align: right;\">\n",
       "      <th></th>\n",
       "      <th>Order_ID</th>\n",
       "      <th>Customer_ID</th>\n",
       "      <th>Product_ID</th>\n",
       "      <th>Quantity</th>\n",
       "      <th>Total_Price</th>\n",
       "      <th>Order_Date</th>\n",
       "    </tr>\n",
       "  </thead>\n",
       "  <tbody>\n",
       "    <tr>\n",
       "      <th>0</th>\n",
       "      <td>e32af09a-b6ab-497e-af3a-331e4d4ed6e7</td>\n",
       "      <td>e0d6cb3c-c4b0-4cfe-8225-b65d094d2424</td>\n",
       "      <td>2ef6e8fa-6a36-4515-b1c2-a0a700abf386</td>\n",
       "      <td>2</td>\n",
       "      <td>501.14</td>\n",
       "      <td>2020-03-06 06:49:07.272117</td>\n",
       "    </tr>\n",
       "    <tr>\n",
       "      <th>1</th>\n",
       "      <td>86eb8859-14ab-4d4e-9267-c5826f4e0c8e</td>\n",
       "      <td>fa3ca35a-5540-404b-a7eb-9001cdcbd840</td>\n",
       "      <td>3ba38e01-f8e7-4af2-9246-87ef0961d4f5</td>\n",
       "      <td>6</td>\n",
       "      <td>1078.86</td>\n",
       "      <td>2020-07-31 07:09:30.231510</td>\n",
       "    </tr>\n",
       "    <tr>\n",
       "      <th>2</th>\n",
       "      <td>7379b560-8897-4623-92a2-523ddcdc43a1</td>\n",
       "      <td>7ad4de53-e6d7-4cd3-99b8-13fb70fe7a34</td>\n",
       "      <td>a58c53bd-a34b-4541-b926-bec9eb84cac2</td>\n",
       "      <td>7</td>\n",
       "      <td>4203.85</td>\n",
       "      <td>2021-05-11 04:33:09.707443</td>\n",
       "    </tr>\n",
       "  </tbody>\n",
       "</table>\n",
       "</div>"
      ],
      "text/plain": [
       "                               Order_ID                           Customer_ID  \\\n",
       "0  e32af09a-b6ab-497e-af3a-331e4d4ed6e7  e0d6cb3c-c4b0-4cfe-8225-b65d094d2424   \n",
       "1  86eb8859-14ab-4d4e-9267-c5826f4e0c8e  fa3ca35a-5540-404b-a7eb-9001cdcbd840   \n",
       "2  7379b560-8897-4623-92a2-523ddcdc43a1  7ad4de53-e6d7-4cd3-99b8-13fb70fe7a34   \n",
       "\n",
       "                             Product_ID  Quantity  Total_Price  \\\n",
       "0  2ef6e8fa-6a36-4515-b1c2-a0a700abf386         2       501.14   \n",
       "1  3ba38e01-f8e7-4af2-9246-87ef0961d4f5         6      1078.86   \n",
       "2  a58c53bd-a34b-4541-b926-bec9eb84cac2         7      4203.85   \n",
       "\n",
       "                  Order_Date  \n",
       "0 2020-03-06 06:49:07.272117  \n",
       "1 2020-07-31 07:09:30.231510  \n",
       "2 2021-05-11 04:33:09.707443  "
      ]
     },
     "execution_count": 38,
     "metadata": {},
     "output_type": "execute_result"
    }
   ],
   "source": [
    "orders_df = yanki_df[['Order_ID', 'Customer_ID','Product_ID','Quantity','Total_Price','Order_Date']].copy().drop_duplicates().reset_index(drop=True)\n",
    "orders_df.head(3)"
   ]
  },
  {
   "cell_type": "markdown",
   "metadata": {},
   "source": [
    "### payment_method_df Table"
   ]
  },
  {
   "cell_type": "code",
   "execution_count": 39,
   "metadata": {},
   "outputs": [
    {
     "data": {
      "text/html": [
       "<div>\n",
       "<style scoped>\n",
       "    .dataframe tbody tr th:only-of-type {\n",
       "        vertical-align: middle;\n",
       "    }\n",
       "\n",
       "    .dataframe tbody tr th {\n",
       "        vertical-align: top;\n",
       "    }\n",
       "\n",
       "    .dataframe thead th {\n",
       "        text-align: right;\n",
       "    }\n",
       "</style>\n",
       "<table border=\"1\" class=\"dataframe\">\n",
       "  <thead>\n",
       "    <tr style=\"text-align: right;\">\n",
       "      <th></th>\n",
       "      <th>Order_ID</th>\n",
       "      <th>Payment_Method</th>\n",
       "      <th>Transaction_Status</th>\n",
       "    </tr>\n",
       "  </thead>\n",
       "  <tbody>\n",
       "    <tr>\n",
       "      <th>0</th>\n",
       "      <td>e32af09a-b6ab-497e-af3a-331e4d4ed6e7</td>\n",
       "      <td>Debit Card</td>\n",
       "      <td>completed</td>\n",
       "    </tr>\n",
       "    <tr>\n",
       "      <th>1</th>\n",
       "      <td>86eb8859-14ab-4d4e-9267-c5826f4e0c8e</td>\n",
       "      <td>Credit Card</td>\n",
       "      <td>completed</td>\n",
       "    </tr>\n",
       "    <tr>\n",
       "      <th>2</th>\n",
       "      <td>7379b560-8897-4623-92a2-523ddcdc43a1</td>\n",
       "      <td>PayPal</td>\n",
       "      <td>pending</td>\n",
       "    </tr>\n",
       "  </tbody>\n",
       "</table>\n",
       "</div>"
      ],
      "text/plain": [
       "                               Order_ID Payment_Method Transaction_Status\n",
       "0  e32af09a-b6ab-497e-af3a-331e4d4ed6e7     Debit Card          completed\n",
       "1  86eb8859-14ab-4d4e-9267-c5826f4e0c8e    Credit Card          completed\n",
       "2  7379b560-8897-4623-92a2-523ddcdc43a1         PayPal            pending"
      ]
     },
     "execution_count": 39,
     "metadata": {},
     "output_type": "execute_result"
    }
   ],
   "source": [
    "payment_menthod_df = yanki_df[['Order_ID','Payment_Method','Transaction_Status']].copy().drop_duplicates().reset_index(drop=True)\n",
    "payment_menthod_df.head(3)"
   ]
  },
  {
   "cell_type": "markdown",
   "metadata": {},
   "source": [
    "## Save the Table to csv\n",
    "* makes it loadable to the PostgreSQL database\n"
   ]
  },
  {
   "cell_type": "code",
   "execution_count": 42,
   "metadata": {},
   "outputs": [],
   "source": [
    "customer_df.to_csv(r\"../datasets/cleaned dataset/customer_df.csv\", index=False)\n",
    "product_df.to_csv(r\"../datasets/cleaned dataset/product_df.csv\", index=False)\n",
    "shipping_address_df.to_csv(r\"../datasets/cleaned dataset/shipping_address_df.csv\", index=False)\n",
    "payment_menthod_df.to_csv(r\"../datasets/cleaned dataset/payment_menthod_df.csv\", index=False)\n",
    "orders_df.to_csv(r\"../datasets/cleaned dataset/orders_df.csv\", index=False)"
   ]
  },
  {
   "cell_type": "markdown",
   "metadata": {},
   "source": [
    "\n",
    "\n",
    "# Data LOading into PostreSQL"
   ]
  },
  {
   "cell_type": "code",
   "execution_count": 43,
   "metadata": {},
   "outputs": [],
   "source": [
    "# Locate on the postgreSQL script\n"
   ]
  },
  {
   "cell_type": "code",
   "execution_count": null,
   "metadata": {},
   "outputs": [],
   "source": []
  }
 ],
 "metadata": {
  "kernelspec": {
   "display_name": "base",
   "language": "python",
   "name": "python3"
  },
  "language_info": {
   "codemirror_mode": {
    "name": "ipython",
    "version": 3
   },
   "file_extension": ".py",
   "mimetype": "text/x-python",
   "name": "python",
   "nbconvert_exporter": "python",
   "pygments_lexer": "ipython3",
   "version": "3.11.7"
  }
 },
 "nbformat": 4,
 "nbformat_minor": 2
}
