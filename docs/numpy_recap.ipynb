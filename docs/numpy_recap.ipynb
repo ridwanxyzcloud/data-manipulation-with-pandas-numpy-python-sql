{
 "cells": [
  {
   "cell_type": "code",
   "execution_count": 1,
   "id": "68346e8e-af5c-4d35-ad0e-f208076f850b",
   "metadata": {},
   "outputs": [],
   "source": [
    "\n",
    "import numpy as np"
   ]
  },
  {
   "cell_type": "code",
   "execution_count": 101,
   "id": "b86dd118-6266-4574-921d-53b118923a50",
   "metadata": {},
   "outputs": [],
   "source": [
    "\n",
    "vector = [1,2,3,4,5]"
   ]
  },
  {
   "cell_type": "markdown",
   "id": "754dd9df-e361-48b5-b43a-b169ad38c317",
   "metadata": {},
   "source": [
    "# Vectors\n",
    "\n",
    "* a one dimensional array\n",
    "* when it becomes more than one array, it becomes a matrix"
   ]
  },
  {
   "cell_type": "markdown",
   "id": "cc7aeb2c-234f-4a43-8f9e-7b6673d1bc8d",
   "metadata": {},
   "source": [
    "### Matrix\n",
    "* a 2D or 3D array is called a matrix \n"
   ]
  },
  {
   "cell_type": "code",
   "execution_count": 10,
   "id": "3118839c-82dc-4bb4-82b4-d8665d6b70db",
   "metadata": {},
   "outputs": [
    {
     "name": "stdout",
     "output_type": "stream",
     "text": [
      "[[1 2 3]\n",
      " [4 5 6]]\n"
     ]
    }
   ],
   "source": [
    "# This is a 2x3 matrix which is 2D , three columns \n",
    "matrix_2 = np.array([[1,2,3],[4,5,6]])\n",
    "print(matrix_2)"
   ]
  },
  {
   "cell_type": "code",
   "execution_count": 9,
   "id": "e034cb74-4be9-4fec-830d-62293a2776dd",
   "metadata": {},
   "outputs": [
    {
     "name": "stdout",
     "output_type": "stream",
     "text": [
      "[[1 2 3]\n",
      " [4 5 6]\n",
      " [7 8 9]]\n"
     ]
    }
   ],
   "source": [
    "# 2D Array , 3x3 matrix\n",
    "matrix = np.array([[1,2,3],[4,5,6],[7,8,9]])\n",
    "print(matrix)"
   ]
  },
  {
   "cell_type": "code",
   "execution_count": 14,
   "id": "4003dd63-05dd-4d19-adec-12f182d842bd",
   "metadata": {},
   "outputs": [
    {
     "data": {
      "text/plain": [
       "(2, 3)"
      ]
     },
     "execution_count": 14,
     "metadata": {},
     "output_type": "execute_result"
    }
   ],
   "source": [
    "# To get the shape of the array\n",
    "matrix_2.shape"
   ]
  },
  {
   "cell_type": "code",
   "execution_count": 15,
   "id": "4f95165e-b24d-450e-9f0e-dcdbbca58e3f",
   "metadata": {},
   "outputs": [
    {
     "data": {
      "text/plain": [
       "(3, 3)"
      ]
     },
     "execution_count": 15,
     "metadata": {},
     "output_type": "execute_result"
    }
   ],
   "source": [
    "matrix.shape"
   ]
  },
  {
   "cell_type": "markdown",
   "id": "5c7b3ac7-506b-4b93-b382-1fd2258e0bfc",
   "metadata": {},
   "source": [
    "### ones, zeros"
   ]
  },
  {
   "cell_type": "code",
   "execution_count": 22,
   "id": "a15ad79a-666c-42d5-a074-cd2c95591249",
   "metadata": {},
   "outputs": [
    {
     "name": "stdout",
     "output_type": "stream",
     "text": [
      "[[1. 1. 1.]\n",
      " [1. 1. 1.]]\n"
     ]
    }
   ],
   "source": [
    "ones = np.ones((2,3))\n",
    "print(ones)"
   ]
  },
  {
   "cell_type": "code",
   "execution_count": 25,
   "id": "09cdf81e-7e0d-47ed-b3dd-9e8c775dce0d",
   "metadata": {},
   "outputs": [
    {
     "name": "stdout",
     "output_type": "stream",
     "text": [
      "[[0. 0. 0.]\n",
      " [0. 0. 0.]\n",
      " [0. 0. 0.]\n",
      " [0. 0. 0.]]\n"
     ]
    }
   ],
   "source": [
    "zeros = np.zeros((4,3))\n",
    "print(zeros)"
   ]
  },
  {
   "cell_type": "markdown",
   "id": "b4629827-7175-4f83-8082-f71676aeeb50",
   "metadata": {},
   "source": [
    "## Accessing numpy arrays\n",
    "\n",
    "* '''np.array[vertical index, horizontal index]'''   for one element \n",
    "* '''np.array[vertical start:end, horizontal start:end]'''    for more than one element "
   ]
  },
  {
   "cell_type": "code",
   "execution_count": 26,
   "id": "7fa46fd7-854a-42fc-aea9-204d6e6e4683",
   "metadata": {},
   "outputs": [
    {
     "data": {
      "text/plain": [
       "array([[1, 2, 3],\n",
       "       [4, 5, 6]])"
      ]
     },
     "execution_count": 26,
     "metadata": {},
     "output_type": "execute_result"
    }
   ],
   "source": [
    "matrix_2"
   ]
  },
  {
   "cell_type": "code",
   "execution_count": 29,
   "id": "fa60c0db-482d-4559-a498-ce87df7b0c87",
   "metadata": {},
   "outputs": [
    {
     "data": {
      "text/plain": [
       "1"
      ]
     },
     "execution_count": 29,
     "metadata": {},
     "output_type": "execute_result"
    }
   ],
   "source": [
    "# top left element\n",
    "matrix_2[0,0]"
   ]
  },
  {
   "cell_type": "code",
   "execution_count": 31,
   "id": "27041226-b256-497d-bc15-974182994232",
   "metadata": {},
   "outputs": [
    {
     "data": {
      "text/plain": [
       "array([1, 2, 3])"
      ]
     },
     "execution_count": 31,
     "metadata": {},
     "output_type": "execute_result"
    }
   ],
   "source": [
    "# first row\n",
    "matrix_2[0,:]"
   ]
  },
  {
   "cell_type": "code",
   "execution_count": 32,
   "id": "600fa2ac-df56-471e-a055-d9656f9873bd",
   "metadata": {},
   "outputs": [
    {
     "data": {
      "text/plain": [
       "array([1, 4])"
      ]
     },
     "execution_count": 32,
     "metadata": {},
     "output_type": "execute_result"
    }
   ],
   "source": [
    "# first column\n",
    "matrix_2[:,0]"
   ]
  },
  {
   "cell_type": "code",
   "execution_count": 33,
   "id": "d4aa97ec-a0c8-41e1-99c8-7b4965074c00",
   "metadata": {},
   "outputs": [
    {
     "data": {
      "text/plain": [
       "array([[1, 2],\n",
       "       [4, 5]])"
      ]
     },
     "execution_count": 33,
     "metadata": {},
     "output_type": "execute_result"
    }
   ],
   "source": [
    "# first two rows and first two columns\n",
    "matrix_2[0:2,0:2]"
   ]
  },
  {
   "cell_type": "markdown",
   "id": "b4f88e35-a625-4973-9b73-5ff6199bcf78",
   "metadata": {},
   "source": [
    "### Boolean Indexing "
   ]
  },
  {
   "cell_type": "code",
   "execution_count": 35,
   "id": "812f77a9-9b54-41a9-825e-60e9af18af87",
   "metadata": {},
   "outputs": [
    {
     "name": "stdout",
     "output_type": "stream",
     "text": [
      "[[False False  True]\n",
      " [ True  True  True]]\n"
     ]
    }
   ],
   "source": [
    "#select all values greater than 2\n",
    "print(matrix_2 > 2)"
   ]
  },
  {
   "cell_type": "code",
   "execution_count": 38,
   "id": "8f0629bc-a374-4f6f-98f5-4aa620ebe136",
   "metadata": {},
   "outputs": [
    {
     "data": {
      "text/plain": [
       "array([3, 4, 5, 6])"
      ]
     },
     "execution_count": 38,
     "metadata": {},
     "output_type": "execute_result"
    }
   ],
   "source": [
    "# selecting values greater than 2\n",
    "matrix_2[matrix_2 > 2]"
   ]
  },
  {
   "cell_type": "code",
   "execution_count": 41,
   "id": "5e158bdf-e611-4ddd-abf2-70052513d44a",
   "metadata": {},
   "outputs": [
    {
     "data": {
      "text/plain": [
       "array([1, 2, 6])"
      ]
     },
     "execution_count": 41,
     "metadata": {},
     "output_type": "execute_result"
    }
   ],
   "source": [
    "# selecting values less than  3, greater than 5\n",
    "# merging multiple conditions\n",
    "\n",
    "matrix_2[(matrix_2 < 3 ) | (matrix_2 > 5)]"
   ]
  },
  {
   "cell_type": "markdown",
   "id": "3ea53608-24a1-45e6-846c-52bc0bd54ea9",
   "metadata": {},
   "source": [
    "### Modifying Numpy Arrays"
   ]
  },
  {
   "cell_type": "code",
   "execution_count": 42,
   "id": "fef2ab25-9fc1-40b7-b5bc-ecfc82c8efd1",
   "metadata": {},
   "outputs": [
    {
     "data": {
      "text/plain": [
       "array([[1, 2, 3],\n",
       "       [4, 5, 6]])"
      ]
     },
     "execution_count": 42,
     "metadata": {},
     "output_type": "execute_result"
    }
   ],
   "source": [
    "# adding an element to an array\n",
    "matrix_2"
   ]
  },
  {
   "cell_type": "code",
   "execution_count": 46,
   "id": "c661c97e-1caa-4c2a-a9e9-0f04f7405d9f",
   "metadata": {},
   "outputs": [
    {
     "data": {
      "text/plain": [
       "array([[ 1,  2,  3],\n",
       "       [ 4,  5,  6],\n",
       "       [92, 88, 70]])"
      ]
     },
     "execution_count": 46,
     "metadata": {},
     "output_type": "execute_result"
    }
   ],
   "source": [
    "# ADDING to a row\n",
    "matrix_2_extra = np.append(matrix_2, [[92,88,70]], axis=0)\n",
    "matrix_2_extra"
   ]
  },
  {
   "cell_type": "code",
   "execution_count": 49,
   "id": "d85eac08-9b76-4838-bc07-3c4d8cfc7a4b",
   "metadata": {},
   "outputs": [
    {
     "data": {
      "text/plain": [
       "array([[92],\n",
       "       [88],\n",
       "       [70]])"
      ]
     },
     "execution_count": 49,
     "metadata": {},
     "output_type": "execute_result"
    }
   ],
   "source": [
    "# adding array to a colum\n",
    "np_column = np.array([[92],[88],[70]])\n",
    "np_column"
   ]
  },
  {
   "cell_type": "code",
   "execution_count": 50,
   "id": "71f8cd00-803b-47f0-9095-a506777d2c50",
   "metadata": {},
   "outputs": [
    {
     "data": {
      "text/plain": [
       "array([[ 1,  2,  3, 92],\n",
       "       [ 4,  5,  6, 88],\n",
       "       [92, 88, 70, 70]])"
      ]
     },
     "execution_count": 50,
     "metadata": {},
     "output_type": "execute_result"
    }
   ],
   "source": [
    "matrix_2_column = np.append(matrix_2_extra,np_column, axis=1)\n",
    "matrix_2_column"
   ]
  },
  {
   "cell_type": "code",
   "execution_count": 55,
   "id": "b51abf28-39cb-4dd7-a42d-e106e63f1869",
   "metadata": {},
   "outputs": [
    {
     "data": {
      "text/plain": [
       "array([[ 1,  2,  3, 92],\n",
       "       [92, 88, 70, 70]])"
      ]
     },
     "execution_count": 55,
     "metadata": {},
     "output_type": "execute_result"
    }
   ],
   "source": [
    "# removing elements , removes the middle row \n",
    "matrix_delete = np.delete(matrix_2_column, [1], axis=0)\n",
    "matrix_delete"
   ]
  },
  {
   "cell_type": "markdown",
   "id": "07734c89-9991-400e-9bdd-0d6b87bf7635",
   "metadata": {},
   "source": [
    "### Methods (arange, reshape, linspace, eye)"
   ]
  },
  {
   "cell_type": "code",
   "execution_count": 57,
   "id": "58d61ac1-74b1-4a17-9341-de18062756e5",
   "metadata": {},
   "outputs": [
    {
     "data": {
      "text/plain": [
       "array([0, 1, 2, 3, 4, 5, 6, 7, 8, 9])"
      ]
     },
     "execution_count": 57,
     "metadata": {},
     "output_type": "execute_result"
    }
   ],
   "source": [
    "#arnge\n",
    "\n",
    "ar = np.arange(0,10)\n",
    "ar"
   ]
  },
  {
   "cell_type": "code",
   "execution_count": 59,
   "id": "01a6e95d-00d4-42de-9ef2-b97227e3b3e3",
   "metadata": {},
   "outputs": [
    {
     "data": {
      "text/plain": [
       "array([0, 2, 4, 6, 8])"
      ]
     },
     "execution_count": 59,
     "metadata": {},
     "output_type": "execute_result"
    }
   ],
   "source": [
    "# steping by 2 using 'np.arange'\n",
    "ar_step = np.arange(0,10,2)\n",
    "ar_step"
   ]
  },
  {
   "cell_type": "code",
   "execution_count": 60,
   "id": "55e4ff49-49fe-4984-9c1f-e6866932a37f",
   "metadata": {},
   "outputs": [
    {
     "data": {
      "text/plain": [
       "(10,)"
      ]
     },
     "execution_count": 60,
     "metadata": {},
     "output_type": "execute_result"
    }
   ],
   "source": [
    "# reshape\n",
    "# can be used to reshape the look of an array\n",
    "\n",
    "ar.shape"
   ]
  },
  {
   "cell_type": "code",
   "execution_count": 65,
   "id": "b51a78dc-17f4-4214-b046-a3c22f19779c",
   "metadata": {},
   "outputs": [
    {
     "data": {
      "text/plain": [
       "array([[0, 1, 2, 3, 4],\n",
       "       [5, 6, 7, 8, 9]])"
      ]
     },
     "execution_count": 65,
     "metadata": {},
     "output_type": "execute_result"
    }
   ],
   "source": [
    "ar_reshape = ar.reshape(2,5)\n",
    "ar_reshape"
   ]
  },
  {
   "cell_type": "code",
   "execution_count": 66,
   "id": "e91be2cf-6877-4fbe-853c-5183aca653e5",
   "metadata": {},
   "outputs": [
    {
     "data": {
      "text/plain": [
       "array([[0, 1],\n",
       "       [2, 3],\n",
       "       [4, 5],\n",
       "       [6, 7],\n",
       "       [8, 9]])"
      ]
     },
     "execution_count": 66,
     "metadata": {},
     "output_type": "execute_result"
    }
   ],
   "source": [
    "ar_reshape1 = ar.reshape(5,2)\n",
    "ar_reshape1"
   ]
  },
  {
   "cell_type": "code",
   "execution_count": 68,
   "id": "7a1e9788-134e-427f-b138-42d0a9203a58",
   "metadata": {},
   "outputs": [
    {
     "data": {
      "text/plain": [
       "array([ 0.        ,  0.40816327,  0.81632653,  1.2244898 ,  1.63265306,\n",
       "        2.04081633,  2.44897959,  2.85714286,  3.26530612,  3.67346939,\n",
       "        4.08163265,  4.48979592,  4.89795918,  5.30612245,  5.71428571,\n",
       "        6.12244898,  6.53061224,  6.93877551,  7.34693878,  7.75510204,\n",
       "        8.16326531,  8.57142857,  8.97959184,  9.3877551 ,  9.79591837,\n",
       "       10.20408163, 10.6122449 , 11.02040816, 11.42857143, 11.83673469,\n",
       "       12.24489796, 12.65306122, 13.06122449, 13.46938776, 13.87755102,\n",
       "       14.28571429, 14.69387755, 15.10204082, 15.51020408, 15.91836735,\n",
       "       16.32653061, 16.73469388, 17.14285714, 17.55102041, 17.95918367,\n",
       "       18.36734694, 18.7755102 , 19.18367347, 19.59183673, 20.        ])"
      ]
     },
     "execution_count": 68,
     "metadata": {},
     "output_type": "execute_result"
    }
   ],
   "source": [
    "# linspace\n",
    "# it allows for even spacing \n",
    "lin_space = np.linspace(0,20)\n",
    "lin_space"
   ]
  },
  {
   "cell_type": "code",
   "execution_count": 73,
   "id": "0777a4aa-8359-4753-b0ce-6b5939e4d213",
   "metadata": {},
   "outputs": [
    {
     "data": {
      "text/plain": [
       "array([ 0.        ,  2.85714286,  5.71428571,  8.57142857, 11.42857143,\n",
       "       14.28571429, 17.14285714, 20.        ])"
      ]
     },
     "execution_count": 73,
     "metadata": {},
     "output_type": "execute_result"
    }
   ],
   "source": [
    "lin_space = np.linspace(0,20,8)\n",
    "lin_space"
   ]
  },
  {
   "cell_type": "code",
   "execution_count": 77,
   "id": "ce3f7ecc-a38b-49ec-98b3-733a517da59a",
   "metadata": {},
   "outputs": [
    {
     "data": {
      "text/plain": [
       "array([[1., 0., 0., 0.],\n",
       "       [0., 1., 0., 0.],\n",
       "       [0., 0., 1., 0.],\n",
       "       [0., 0., 0., 1.]])"
      ]
     },
     "execution_count": 77,
     "metadata": {},
     "output_type": "execute_result"
    }
   ],
   "source": [
    "#eye \n",
    "identity_matrix = np.eye(4)\n",
    "identity_matrix"
   ]
  },
  {
   "cell_type": "markdown",
   "id": "37e3a52a-5f3b-4f9a-8530-6fbcc0323c18",
   "metadata": {},
   "source": [
    "\n",
    "\n",
    "### Function: sum, min, ,ax, argmin, argmax"
   ]
  },
  {
   "cell_type": "code",
   "execution_count": 86,
   "id": "4a19a186-51ba-4ed1-bb02-a1c62a0815ae",
   "metadata": {},
   "outputs": [
    {
     "data": {
      "text/plain": [
       "array([[1, 2, 3],\n",
       "       [4, 5, 6]])"
      ]
     },
     "execution_count": 86,
     "metadata": {},
     "output_type": "execute_result"
    }
   ],
   "source": [
    "matrix_2"
   ]
  },
  {
   "cell_type": "code",
   "execution_count": 78,
   "id": "d5a67da1-3af5-4cd1-a1ed-5b67a024166d",
   "metadata": {},
   "outputs": [
    {
     "data": {
      "text/plain": [
       "21"
      ]
     },
     "execution_count": 78,
     "metadata": {},
     "output_type": "execute_result"
    }
   ],
   "source": [
    "#sum\n",
    "matrix_2.sum()"
   ]
  },
  {
   "cell_type": "code",
   "execution_count": 85,
   "id": "eeeacfa1-e453-492d-ae9e-3dd556069c0e",
   "metadata": {},
   "outputs": [
    {
     "data": {
      "text/plain": [
       "array([ 6, 15])"
      ]
     },
     "execution_count": 85,
     "metadata": {},
     "output_type": "execute_result"
    }
   ],
   "source": [
    "# sum of a row\n",
    "matrix_2.sum(axis=1)"
   ]
  },
  {
   "cell_type": "code",
   "execution_count": 87,
   "id": "14068700-a1d6-4c58-8c81-ea937d1a1b06",
   "metadata": {},
   "outputs": [
    {
     "data": {
      "text/plain": [
       "array([5, 7, 9])"
      ]
     },
     "execution_count": 87,
     "metadata": {},
     "output_type": "execute_result"
    }
   ],
   "source": [
    "# sum of a column\n",
    "matrix_2.sum(axis=0)"
   ]
  },
  {
   "cell_type": "code",
   "execution_count": 89,
   "id": "1feb5688-59ca-4192-be94-4ba712292805",
   "metadata": {},
   "outputs": [
    {
     "data": {
      "text/plain": [
       "array([1, 4])"
      ]
     },
     "execution_count": 89,
     "metadata": {},
     "output_type": "execute_result"
    }
   ],
   "source": [
    "#min of each row\n",
    "matrix_2.min(axis=1)"
   ]
  },
  {
   "cell_type": "code",
   "execution_count": 90,
   "id": "bfcf7bbd-b937-4160-8a7d-3bc66b28187d",
   "metadata": {},
   "outputs": [
    {
     "data": {
      "text/plain": [
       "array([1, 2, 3])"
      ]
     },
     "execution_count": 90,
     "metadata": {},
     "output_type": "execute_result"
    }
   ],
   "source": [
    "#min of each column\n",
    "matrix_2.min(axis=0)"
   ]
  },
  {
   "cell_type": "code",
   "execution_count": 91,
   "id": "e62b583a-72d7-4659-b061-29ea3700b2f9",
   "metadata": {},
   "outputs": [
    {
     "data": {
      "text/plain": [
       "array([3, 6])"
      ]
     },
     "execution_count": 91,
     "metadata": {},
     "output_type": "execute_result"
    }
   ],
   "source": [
    "#max of each row\n",
    "matrix_2.max(axis=1)"
   ]
  },
  {
   "cell_type": "code",
   "execution_count": 92,
   "id": "f5472c97-f584-4928-9809-25d19f8e184b",
   "metadata": {},
   "outputs": [
    {
     "data": {
      "text/plain": [
       "array([4, 5, 6])"
      ]
     },
     "execution_count": 92,
     "metadata": {},
     "output_type": "execute_result"
    }
   ],
   "source": [
    "#max of each column\n",
    "matrix_2.max(axis=0)"
   ]
  },
  {
   "cell_type": "code",
   "execution_count": 95,
   "id": "57577313-02ae-4591-b22c-2bfdade30b77",
   "metadata": {},
   "outputs": [
    {
     "data": {
      "text/plain": [
       "array([4, 5, 6])"
      ]
     },
     "execution_count": 95,
     "metadata": {},
     "output_type": "execute_result"
    }
   ],
   "source": [
    "#max of each column\n",
    "matrix_2.max(axis=0)"
   ]
  },
  {
   "cell_type": "code",
   "execution_count": 96,
   "id": "0691c29e-8ba3-4a23-b58b-a6345ed7474e",
   "metadata": {},
   "outputs": [
    {
     "data": {
      "text/plain": [
       "array([0, 0])"
      ]
     },
     "execution_count": 96,
     "metadata": {},
     "output_type": "execute_result"
    }
   ],
   "source": [
    "#Index of min of each row\n",
    "matrix_2.argmin(axis=1)"
   ]
  },
  {
   "cell_type": "code",
   "execution_count": 97,
   "id": "e795740d-b523-4825-9269-40f5a7c3a9ce",
   "metadata": {},
   "outputs": [
    {
     "data": {
      "text/plain": [
       "array([0, 0, 0])"
      ]
     },
     "execution_count": 97,
     "metadata": {},
     "output_type": "execute_result"
    }
   ],
   "source": [
    "#Index of min of each column\n",
    "matrix_2.argmin(axis=0)"
   ]
  },
  {
   "cell_type": "code",
   "execution_count": 99,
   "id": "f809bdbb-2672-4393-b0c2-a38d591309a9",
   "metadata": {},
   "outputs": [
    {
     "data": {
      "text/plain": [
       "array([2, 2])"
      ]
     },
     "execution_count": 99,
     "metadata": {},
     "output_type": "execute_result"
    }
   ],
   "source": [
    "#Index of max of each row\n",
    "matrix_2.argmax(axis=1)"
   ]
  },
  {
   "cell_type": "code",
   "execution_count": 100,
   "id": "b09239c5-28b6-4b78-b63d-7ad6b32c799a",
   "metadata": {},
   "outputs": [
    {
     "data": {
      "text/plain": [
       "array([1, 1, 1])"
      ]
     },
     "execution_count": 100,
     "metadata": {},
     "output_type": "execute_result"
    }
   ],
   "source": [
    "#Index of max of each column\n",
    "matrix_2.argmax(axis=0)"
   ]
  },
  {
   "cell_type": "markdown",
   "id": "8997c768-b743-4fa0-a701-da59c0ded445",
   "metadata": {},
   "source": [
    "### Random: rand, randn, randint"
   ]
  },
  {
   "cell_type": "code",
   "execution_count": 103,
   "id": "38bc41ce-7c6c-4abd-a376-d1be38078391",
   "metadata": {},
   "outputs": [
    {
     "data": {
      "text/plain": [
       "array([[0.59752202, 0.00411583, 0.89087412, 0.24154471],\n",
       "       [0.60378125, 0.88517302, 0.6295384 , 0.51635957],\n",
       "       [0.75656122, 0.03311269, 0.24222701, 0.83776872]])"
      ]
     },
     "execution_count": 103,
     "metadata": {},
     "output_type": "execute_result"
    }
   ],
   "source": [
    "# rand: 0 & 1\n",
    "rand_arr = np.random.rand(3,4)\n",
    "rand_arr"
   ]
  },
  {
   "cell_type": "code",
   "execution_count": 105,
   "id": "b8eab097-45d8-4fc3-8c68-770b7478d499",
   "metadata": {},
   "outputs": [
    {
     "data": {
      "text/plain": [
       "array([[-0.38193692,  2.18079397, -1.57360078],\n",
       "       [ 3.33647646,  0.59582055,  0.83678317],\n",
       "       [ 1.09081522, -1.23253595,  0.43877124]])"
      ]
     },
     "execution_count": 105,
     "metadata": {},
     "output_type": "execute_result"
    }
   ],
   "source": [
    "# random: from standard normal distribution\n",
    "rand_arr_n = np.random.randn(3,3)\n",
    "rand_arr_n"
   ]
  },
  {
   "cell_type": "code",
   "execution_count": 115,
   "id": "9e7e830d-a9ef-4180-8dc1-1a27357405f7",
   "metadata": {},
   "outputs": [
    {
     "data": {
      "text/plain": [
       "array([[8, 8, 8, 4, 7],\n",
       "       [1, 1, 9, 6, 2],\n",
       "       [6, 7, 7, 4, 3]])"
      ]
     },
     "execution_count": 115,
     "metadata": {},
     "output_type": "execute_result"
    }
   ],
   "source": [
    "# randint: 1 - 10\n",
    "randint_arr = np.random.randint(1,10, size=(3,5))\n",
    "randint_arr"
   ]
  },
  {
   "cell_type": "markdown",
   "id": "bd5bc8e8-b257-44f4-a35a-e2fc77b07c3e",
   "metadata": {},
   "source": [
    "\n",
    "# When is numpay arrays useful ?\n",
    "\n",
    "### numpy arrays are used when carrying out a multidimensional connotations\n",
    "### Calculations on data that are within the same data type \n",
    "### integers, numerical data\n"
   ]
  },
  {
   "cell_type": "code",
   "execution_count": null,
   "id": "3090e557-2e0c-4b1a-a34d-dcc11f3e0736",
   "metadata": {},
   "outputs": [],
   "source": []
  }
 ],
 "metadata": {
  "kernelspec": {
   "display_name": "Python 3 (ipykernel)",
   "language": "python",
   "name": "python3"
  },
  "language_info": {
   "codemirror_mode": {
    "name": "ipython",
    "version": 3
   },
   "file_extension": ".py",
   "mimetype": "text/x-python",
   "name": "python",
   "nbconvert_exporter": "python",
   "pygments_lexer": "ipython3",
   "version": "3.11.7"
  }
 },
 "nbformat": 4,
 "nbformat_minor": 5
}
